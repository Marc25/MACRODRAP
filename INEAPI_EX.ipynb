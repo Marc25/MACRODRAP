{
  "cells": [
    {
      "cell_type": "code",
      "execution_count": 1,
      "metadata": {
        "id": "tk6iurpZUilV"
      },
      "outputs": [],
      "source": [
        "# ACCESO A API DE INE FOR MACRODATA"
      ]
    },
    {
      "cell_type": "code",
      "execution_count": 2,
      "metadata": {
        "id": "ujlflfCvUilb"
      },
      "outputs": [],
      "source": [
        "# Libs \n",
        "# codigo = \"HPT40012\" # Hipotec Andalucia\n",
        "# codigo = \"HPT40013\" # Total Nacional\n",
        "# codigo = \"T30681\" PIB\n",
        "# codigo = \"HPT40012\" # Hipotec Andalucia\n",
        "# codigo = \"CNTR3179\" # PIB Total Nacional. Variación anual BASE 2010 MACRO_02\n",
        "# codigo = \"CNTR4892\" # PIB Total Nacional. Variación anual BASE 2015 MACRO_02\n",
        "# codigo = \"IPC206448\" # IPC total Nacional . Variación Anual MACRO_03\n",
        "# codigo = \"CTNFSI6925\" # Dato base. Total Nacional. Tasa de Ahorro hogares\n",
        "# codigo = \"EPA88\" # Poblac Activa\n",
        "# codigo = \"EPA87\" # Poblac Ocupada\n",
        "# codigo = \"EPA87\" # Poblac Ocupada var inter-anual MACRO_08\n",
        "# codigo = \"EPA86\" # Poblac de parados MACRO_09\n",
        "# codigo = \"EPA815\" # Tasa de Desempleo MACRO_10\n",
        "# codigo =\"T28182\" # Estructura Salarial.\n",
        "num_datos = 400"
      ]
    },
    {
      "cell_type": "code",
      "execution_count": 3,
      "metadata": {
        "id": "7cCs50NzUild"
      },
      "outputs": [],
      "source": [
        "MACRO_DIC={\"EPA87\":\"\"}\n",
        "num_datos = 400"
      ]
    },
    {
      "cell_type": "code",
      "execution_count": 4,
      "metadata": {
        "id": "5MLDjsweUile"
      },
      "outputs": [],
      "source": [
        "# Static lists for purpose of illustration\n",
        "macro_codes = [\"MACR0_01\", \"MACR0_02\", \"MACRO_03\", \n",
        "               \"MACRO_06\", \"MACRO_07\", \"MACRO_08\", \n",
        "               \"MACRO_09\", \"MACRO_10\"]\n",
        "\n",
        "ine_codes = [\"CNTR3179\", \"CNTR4892\", \"IPC206448\",\n",
        "             \"EPA88\",\"EPA87\",\"EPA87\",\n",
        "             \"EPA86\",\"EPA815\"]\n",
        "\n",
        "macro_dsc_codes = [\"PIB\", \"PIB\", \"IPC\", \n",
        "                  \"POBL_ACTIVA\",\"POBL_OCUPADA\",\"POBL_OCUPADA_VARINTERA\",\n",
        "                  \"POBL_PARADOS\",\"TASA_PARO\"]\n",
        "\n",
        "MACRO_DICT = {}\n",
        "for i in range(len(macro_codes)):\n",
        "    MACRO_DICT[macro_codes[i]] = (ine_codes[i],macro_dsc_codes[i])\n"
      ]
    },
    {
      "cell_type": "code",
      "execution_count": 5,
      "metadata": {
        "colab": {
          "base_uri": "https://localhost:8080/"
        },
        "id": "GMf-L49SUilf",
        "outputId": "5fb097d2-f87b-4ba7-81d7-68d398838143"
      },
      "outputs": [
        {
          "output_type": "execute_result",
          "data": {
            "text/plain": [
              "{'MACR0_01': ('CNTR3179', 'PIB'),\n",
              " 'MACR0_02': ('CNTR4892', 'PIB'),\n",
              " 'MACRO_03': ('IPC206448', 'IPC'),\n",
              " 'MACRO_06': ('EPA88', 'POBL_ACTIVA'),\n",
              " 'MACRO_07': ('EPA87', 'POBL_OCUPADA'),\n",
              " 'MACRO_08': ('EPA87', 'POBL_OCUPADA_VARINTERA'),\n",
              " 'MACRO_09': ('EPA86', 'POBL_PARADOS'),\n",
              " 'MACRO_10': ('EPA815', 'TASA_PARO')}"
            ]
          },
          "metadata": {},
          "execution_count": 5
        }
      ],
      "source": [
        "MACRO_DICT"
      ]
    },
    {
      "cell_type": "code",
      "execution_count": 6,
      "metadata": {
        "id": "ElPE5b0aUilg"
      },
      "outputs": [],
      "source": [
        "PATH=\"/content/data/INE/\"\n"
      ]
    },
    {
      "cell_type": "code",
      "execution_count": 7,
      "metadata": {
        "colab": {
          "base_uri": "https://localhost:8080/"
        },
        "id": "3m_HE95pUilh",
        "outputId": "06287357-0db0-42a4-a485-7274678def8b"
      },
      "outputs": [
        {
          "output_type": "stream",
          "name": "stdout",
          "text": [
            "total 0\n"
          ]
        }
      ],
      "source": [
        "\n",
        "%ls -l \"/content/data/INE/\"\n"
      ]
    },
    {
      "cell_type": "code",
      "execution_count": 8,
      "metadata": {
        "colab": {
          "base_uri": "https://localhost:8080/"
        },
        "id": "WbbzaljoUilh",
        "outputId": "79d076be-7521-45cd-eb37-c4d6aaa03d7b"
      },
      "outputs": [
        {
          "output_type": "stream",
          "name": "stdout",
          "text": [
            "Dict key-value are : \n",
            "[('MACR0_01', ('CNTR3179', 'PIB')), ('MACR0_02', ('CNTR4892', 'PIB')), ('MACRO_03', ('IPC206448', 'IPC')), ('MACRO_06', ('EPA88', 'POBL_ACTIVA')), ('MACRO_07', ('EPA87', 'POBL_OCUPADA')), ('MACRO_08', ('EPA87', 'POBL_OCUPADA_VARINTERA')), ('MACRO_09', ('EPA86', 'POBL_PARADOS')), ('MACRO_10', ('EPA815', 'TASA_PARO'))]\n"
          ]
        }
      ],
      "source": [
        "print (\"Dict key-value are : \") \n",
        "print([(k, MACRO_DICT[k]) for k in MACRO_DICT])"
      ]
    },
    {
      "cell_type": "code",
      "source": [
        "!pip install boto3"
      ],
      "metadata": {
        "colab": {
          "base_uri": "https://localhost:8080/",
          "height": 548
        },
        "id": "amZ1hBjMdT4y",
        "outputId": "f6ce0e44-e3ce-40b8-dbf1-1da92d68422c"
      },
      "execution_count": 11,
      "outputs": [
        {
          "output_type": "stream",
          "name": "stdout",
          "text": [
            "Collecting boto3\n",
            "  Downloading boto3-1.21.8-py3-none-any.whl (132 kB)\n",
            "\u001b[K     |████████████████████████████████| 132 kB 14.6 MB/s \n",
            "\u001b[?25hCollecting botocore<1.25.0,>=1.24.8\n",
            "  Downloading botocore-1.24.8-py3-none-any.whl (8.6 MB)\n",
            "\u001b[K     |████████████████████████████████| 8.6 MB 59.2 MB/s \n",
            "\u001b[?25hCollecting s3transfer<0.6.0,>=0.5.0\n",
            "  Downloading s3transfer-0.5.2-py3-none-any.whl (79 kB)\n",
            "\u001b[K     |████████████████████████████████| 79 kB 8.5 MB/s \n",
            "\u001b[?25hCollecting jmespath<1.0.0,>=0.7.1\n",
            "  Downloading jmespath-0.10.0-py2.py3-none-any.whl (24 kB)\n",
            "Requirement already satisfied: python-dateutil<3.0.0,>=2.1 in /usr/local/lib/python3.7/dist-packages (from botocore<1.25.0,>=1.24.8->boto3) (2.8.2)\n",
            "Collecting urllib3<1.27,>=1.25.4\n",
            "  Downloading urllib3-1.26.8-py2.py3-none-any.whl (138 kB)\n",
            "\u001b[K     |████████████████████████████████| 138 kB 61.3 MB/s \n",
            "\u001b[?25hRequirement already satisfied: six>=1.5 in /usr/local/lib/python3.7/dist-packages (from python-dateutil<3.0.0,>=2.1->botocore<1.25.0,>=1.24.8->boto3) (1.15.0)\n",
            "Installing collected packages: urllib3, jmespath, botocore, s3transfer, boto3\n",
            "  Attempting uninstall: urllib3\n",
            "    Found existing installation: urllib3 1.24.3\n",
            "    Uninstalling urllib3-1.24.3:\n",
            "      Successfully uninstalled urllib3-1.24.3\n",
            "\u001b[31mERROR: pip's dependency resolver does not currently take into account all the packages that are installed. This behaviour is the source of the following dependency conflicts.\n",
            "requests 2.23.0 requires urllib3!=1.25.0,!=1.25.1,<1.26,>=1.21.1, but you have urllib3 1.26.8 which is incompatible.\n",
            "datascience 0.10.6 requires folium==0.2.1, but you have folium 0.8.3 which is incompatible.\u001b[0m\n",
            "Successfully installed boto3-1.21.8 botocore-1.24.8 jmespath-0.10.0 s3transfer-0.5.2 urllib3-1.26.8\n"
          ]
        },
        {
          "output_type": "display_data",
          "data": {
            "application/vnd.colab-display-data+json": {
              "pip_warning": {
                "packages": [
                  "urllib3"
                ]
              }
            }
          },
          "metadata": {}
        }
      ]
    },
    {
      "cell_type": "code",
      "execution_count": 9,
      "metadata": {
        "id": "Rus8oTl4Uili"
      },
      "outputs": [],
      "source": [
        "import boto3"
      ]
    },
    {
      "cell_type": "code",
      "source": [
        "# pip install requests"
      ],
      "metadata": {
        "colab": {
          "base_uri": "https://localhost:8080/",
          "height": 378
        },
        "id": "R_Ex6ibDdRy5",
        "outputId": "22c0cabb-523f-4074-c550-9b9c3084965c"
      },
      "execution_count": 18,
      "outputs": [
        {
          "output_type": "stream",
          "name": "stdout",
          "text": [
            "Requirement already satisfied: requests in /usr/local/lib/python3.7/dist-packages (2.23.0)\n",
            "Requirement already satisfied: idna<3,>=2.5 in /usr/local/lib/python3.7/dist-packages (from requests) (2.10)\n",
            "Collecting urllib3!=1.25.0,!=1.25.1,<1.26,>=1.21.1\n",
            "  Downloading urllib3-1.25.11-py2.py3-none-any.whl (127 kB)\n",
            "\u001b[K     |████████████████████████████████| 127 kB 13.8 MB/s \n",
            "\u001b[?25hRequirement already satisfied: chardet<4,>=3.0.2 in /usr/local/lib/python3.7/dist-packages (from requests) (3.0.4)\n",
            "Requirement already satisfied: certifi>=2017.4.17 in /usr/local/lib/python3.7/dist-packages (from requests) (2021.10.8)\n",
            "Installing collected packages: urllib3\n",
            "  Attempting uninstall: urllib3\n",
            "    Found existing installation: urllib3 1.26.8\n",
            "    Uninstalling urllib3-1.26.8:\n",
            "      Successfully uninstalled urllib3-1.26.8\n",
            "\u001b[31mERROR: pip's dependency resolver does not currently take into account all the packages that are installed. This behaviour is the source of the following dependency conflicts.\n",
            "datascience 0.10.6 requires folium==0.2.1, but you have folium 0.8.3 which is incompatible.\u001b[0m\n",
            "Successfully installed urllib3-1.25.11\n"
          ]
        },
        {
          "output_type": "display_data",
          "data": {
            "application/vnd.colab-display-data+json": {
              "pip_warning": {
                "packages": [
                  "urllib3"
                ]
              }
            }
          },
          "metadata": {}
        }
      ]
    },
    {
      "cell_type": "code",
      "source": [
        "import requests"
      ],
      "metadata": {
        "id": "5OB4lAHrdQr3"
      },
      "execution_count": 10,
      "outputs": []
    },
    {
      "cell_type": "code",
      "execution_count": 11,
      "metadata": {
        "id": "9vR1UkuZUilj"
      },
      "outputs": [],
      "source": [
        "import boto3\n",
        "REGION='us-east-1'\n",
        "s3 = boto3.client('s3', region_name=REGION)"
      ]
    },
    {
      "cell_type": "code",
      "execution_count": 12,
      "metadata": {
        "id": "HInfa44gUilj"
      },
      "outputs": [],
      "source": [
        "# MADAWS\n",
        "import os\n",
        "os.environ['AWS_ACCESS_KEY_ID']=''\n",
        "os.environ['AWS_SECRET_ACCESS_KEY']=''\n"
      ]
    },
    {
      "cell_type": "code",
      "execution_count": 17,
      "metadata": {
        "id": "3wsrCXHNUilk"
      },
      "outputs": [],
      "source": [
        "def get_data_ine_serie(path, macro_codigo, codigo_ine, num_datos):\n",
        "    \"\"\"\n",
        "    This function get data INE MACRODATA\n",
        "    \"\"\"\n",
        "    url_plantilla = 'http://servicios.ine.es/wstempus/js/ES/DATOS_SERIE/{codigo}?nult={num_datos}'\n",
        "\n",
        "    codigo = codigo_ine\n",
        "    # num_datos = 100\n",
        "\n",
        "    url = url_plantilla.format(codigo=codigo,\n",
        "                               num_datos=num_datos)\n",
        "\n",
        "    respuesta = requests.get(url)\n",
        "    datos = respuesta.json()\n",
        "\n",
        "    nombre = datos['Nombre']\n",
        "\n",
        "    fecha_serie_utc = pd.to_datetime([x['Fecha'] for x in datos['Data']], unit='ms', utc=True)\n",
        "\n",
        "    fecha_serie_madrid = fecha_serie_utc.tz_convert('Europe/Madrid')\n",
        "\n",
        "    fecha_serie = [x.tz_localize(None).date()\n",
        "                   for x in fecha_serie_madrid]\n",
        "\n",
        "    ocupados_serie = [x['Valor']\n",
        "                      for x in datos['Data']] \n",
        "   \n",
        "    \n",
        "\n",
        "    tabla = pd.DataFrame(ocupados_serie,\n",
        "                         index=fecha_serie,\n",
        "                         columns=[macro_codigo])\n",
        "    \n",
        "    tabla['COD_M']=macro_codigo\n",
        "  #  tabla.reset_idex()\n",
        "    tabla.reset_index().rename(columns={'index': 'FECHA'}).to_csv(f'{path}df_{macro_codigo}.csv', index=False, header=True , sep=\"|\", encoding='utf-8')\n",
        "    #tabla.reset_index().rename(columns={'index': 'FECHA'}).to_csv(f'PATH/df_{macro_codigo}.csv', index=False, header=True , sep=\"|\", encoding='utf-8')\n",
        "   # tabla.set_index('fecha_serie')\n",
        "    # tabla.set_index('fecha_serie')\n",
        "    # Example Get PIB variación interanual\n",
        "    # get_data_ine_serie(PATH ,params_codes_list[1][0],params_codes_list[1][1],100)\n",
        "    # Boto3 para subir ficheros al datalake\n",
        "    s3 = boto3.client('s3', region_name=REGION)\n",
        "    BUCKET_NAME = 'mad.bs31'\n",
        "    filename=f'df_{macro_codigo}.csv'\n",
        "    s3.upload_file(f'{path}/df_{macro_codigo}.csv', BUCKET_NAME, filename)\n",
        "\n"
      ]
    },
    {
      "cell_type": "code",
      "execution_count": 14,
      "metadata": {
        "colab": {
          "base_uri": "https://localhost:8080/",
          "height": 164
        },
        "id": "0KEDVifSUiln",
        "outputId": "b0f401bf-12c7-4ee6-8162-6c6ee7704687"
      },
      "outputs": [
        {
          "output_type": "error",
          "ename": "NameError",
          "evalue": "ignored",
          "traceback": [
            "\u001b[0;31m---------------------------------------------------------------------------\u001b[0m",
            "\u001b[0;31mNameError\u001b[0m                                 Traceback (most recent call last)",
            "\u001b[0;32m<ipython-input-14-b5c128b26fc2>\u001b[0m in \u001b[0;36m<module>\u001b[0;34m()\u001b[0m\n\u001b[0;32m----> 1\u001b[0;31m \u001b[0mprint\u001b[0m\u001b[0;34m(\u001b[0m\u001b[0mPATH\u001b[0m\u001b[0;34m,\u001b[0m \u001b[0mparams_codes_list\u001b[0m\u001b[0;34m[\u001b[0m\u001b[0;36m1\u001b[0m\u001b[0;34m]\u001b[0m\u001b[0;34m[\u001b[0m\u001b[0;36m0\u001b[0m\u001b[0;34m]\u001b[0m\u001b[0;34m,\u001b[0m\u001b[0mparams_codes_list\u001b[0m\u001b[0;34m[\u001b[0m\u001b[0;36m1\u001b[0m\u001b[0;34m]\u001b[0m\u001b[0;34m[\u001b[0m\u001b[0;36m1\u001b[0m\u001b[0;34m]\u001b[0m\u001b[0;34m,\u001b[0m\u001b[0;36m100\u001b[0m\u001b[0;34m)\u001b[0m\u001b[0;34m\u001b[0m\u001b[0;34m\u001b[0m\u001b[0m\n\u001b[0m",
            "\u001b[0;31mNameError\u001b[0m: name 'params_codes_list' is not defined"
          ]
        }
      ],
      "source": [
        "print(PATH, params_codes_list[1][0],params_codes_list[1][1],100)"
      ]
    },
    {
      "cell_type": "code",
      "source": [
        "import pandas as pd"
      ],
      "metadata": {
        "id": "_0Wdsx_ffrzF"
      },
      "execution_count": 15,
      "outputs": []
    },
    {
      "cell_type": "code",
      "execution_count": 18,
      "metadata": {
        "id": "glS5d2_dUilo"
      },
      "outputs": [],
      "source": [
        "get_data_ine_serie(PATH ,'MACRO_02','CNTR4892',100)"
      ]
    },
    {
      "cell_type": "code",
      "execution_count": 19,
      "metadata": {
        "id": "6AuGg7rJUilo"
      },
      "outputs": [],
      "source": [
        "get_data_ine_serie(PATH ,'MACRO_06','EPA88',100)"
      ]
    },
    {
      "cell_type": "code",
      "execution_count": 20,
      "metadata": {
        "colab": {
          "base_uri": "https://localhost:8080/",
          "height": 307
        },
        "id": "GPE98EtkUilp",
        "outputId": "aa505e36-6703-49f4-8c5e-0af276696545"
      },
      "outputs": [
        {
          "output_type": "error",
          "ename": "KeyError",
          "evalue": "ignored",
          "traceback": [
            "\u001b[0;31m---------------------------------------------------------------------------\u001b[0m",
            "\u001b[0;31mKeyError\u001b[0m                                  Traceback (most recent call last)",
            "\u001b[0;32m<ipython-input-20-15838ee073a2>\u001b[0m in \u001b[0;36m<module>\u001b[0;34m()\u001b[0m\n\u001b[0;32m----> 1\u001b[0;31m \u001b[0mget_data_ine_serie\u001b[0m\u001b[0;34m(\u001b[0m\u001b[0mPATH\u001b[0m \u001b[0;34m,\u001b[0m\u001b[0;34m'MACRO_03'\u001b[0m\u001b[0;34m,\u001b[0m\u001b[0;34m'IPC206448'\u001b[0m\u001b[0;34m,\u001b[0m\u001b[0;36m100\u001b[0m\u001b[0;34m)\u001b[0m\u001b[0;34m\u001b[0m\u001b[0;34m\u001b[0m\u001b[0m\n\u001b[0m",
            "\u001b[0;32m<ipython-input-17-fb5c35a332b5>\u001b[0m in \u001b[0;36mget_data_ine_serie\u001b[0;34m(path, macro_codigo, codigo_ine, num_datos)\u001b[0m\n\u001b[1;32m     16\u001b[0m     \u001b[0mnombre\u001b[0m \u001b[0;34m=\u001b[0m \u001b[0mdatos\u001b[0m\u001b[0;34m[\u001b[0m\u001b[0;34m'Nombre'\u001b[0m\u001b[0;34m]\u001b[0m\u001b[0;34m\u001b[0m\u001b[0;34m\u001b[0m\u001b[0m\n\u001b[1;32m     17\u001b[0m \u001b[0;34m\u001b[0m\u001b[0m\n\u001b[0;32m---> 18\u001b[0;31m     \u001b[0mfecha_serie_utc\u001b[0m \u001b[0;34m=\u001b[0m \u001b[0mpd\u001b[0m\u001b[0;34m.\u001b[0m\u001b[0mto_datetime\u001b[0m\u001b[0;34m(\u001b[0m\u001b[0;34m[\u001b[0m\u001b[0mx\u001b[0m\u001b[0;34m[\u001b[0m\u001b[0;34m'Fecha'\u001b[0m\u001b[0;34m]\u001b[0m \u001b[0;32mfor\u001b[0m \u001b[0mx\u001b[0m \u001b[0;32min\u001b[0m \u001b[0mdatos\u001b[0m\u001b[0;34m[\u001b[0m\u001b[0;34m'Data'\u001b[0m\u001b[0;34m]\u001b[0m\u001b[0;34m]\u001b[0m\u001b[0;34m,\u001b[0m \u001b[0munit\u001b[0m\u001b[0;34m=\u001b[0m\u001b[0;34m'ms'\u001b[0m\u001b[0;34m,\u001b[0m \u001b[0mutc\u001b[0m\u001b[0;34m=\u001b[0m\u001b[0;32mTrue\u001b[0m\u001b[0;34m)\u001b[0m\u001b[0;34m\u001b[0m\u001b[0;34m\u001b[0m\u001b[0m\n\u001b[0m\u001b[1;32m     19\u001b[0m \u001b[0;34m\u001b[0m\u001b[0m\n\u001b[1;32m     20\u001b[0m     \u001b[0mfecha_serie_madrid\u001b[0m \u001b[0;34m=\u001b[0m \u001b[0mfecha_serie_utc\u001b[0m\u001b[0;34m.\u001b[0m\u001b[0mtz_convert\u001b[0m\u001b[0;34m(\u001b[0m\u001b[0;34m'Europe/Madrid'\u001b[0m\u001b[0;34m)\u001b[0m\u001b[0;34m\u001b[0m\u001b[0;34m\u001b[0m\u001b[0m\n",
            "\u001b[0;32m<ipython-input-17-fb5c35a332b5>\u001b[0m in \u001b[0;36m<listcomp>\u001b[0;34m(.0)\u001b[0m\n\u001b[1;32m     16\u001b[0m     \u001b[0mnombre\u001b[0m \u001b[0;34m=\u001b[0m \u001b[0mdatos\u001b[0m\u001b[0;34m[\u001b[0m\u001b[0;34m'Nombre'\u001b[0m\u001b[0;34m]\u001b[0m\u001b[0;34m\u001b[0m\u001b[0;34m\u001b[0m\u001b[0m\n\u001b[1;32m     17\u001b[0m \u001b[0;34m\u001b[0m\u001b[0m\n\u001b[0;32m---> 18\u001b[0;31m     \u001b[0mfecha_serie_utc\u001b[0m \u001b[0;34m=\u001b[0m \u001b[0mpd\u001b[0m\u001b[0;34m.\u001b[0m\u001b[0mto_datetime\u001b[0m\u001b[0;34m(\u001b[0m\u001b[0;34m[\u001b[0m\u001b[0mx\u001b[0m\u001b[0;34m[\u001b[0m\u001b[0;34m'Fecha'\u001b[0m\u001b[0;34m]\u001b[0m \u001b[0;32mfor\u001b[0m \u001b[0mx\u001b[0m \u001b[0;32min\u001b[0m \u001b[0mdatos\u001b[0m\u001b[0;34m[\u001b[0m\u001b[0;34m'Data'\u001b[0m\u001b[0;34m]\u001b[0m\u001b[0;34m]\u001b[0m\u001b[0;34m,\u001b[0m \u001b[0munit\u001b[0m\u001b[0;34m=\u001b[0m\u001b[0;34m'ms'\u001b[0m\u001b[0;34m,\u001b[0m \u001b[0mutc\u001b[0m\u001b[0;34m=\u001b[0m\u001b[0;32mTrue\u001b[0m\u001b[0;34m)\u001b[0m\u001b[0;34m\u001b[0m\u001b[0;34m\u001b[0m\u001b[0m\n\u001b[0m\u001b[1;32m     19\u001b[0m \u001b[0;34m\u001b[0m\u001b[0m\n\u001b[1;32m     20\u001b[0m     \u001b[0mfecha_serie_madrid\u001b[0m \u001b[0;34m=\u001b[0m \u001b[0mfecha_serie_utc\u001b[0m\u001b[0;34m.\u001b[0m\u001b[0mtz_convert\u001b[0m\u001b[0;34m(\u001b[0m\u001b[0;34m'Europe/Madrid'\u001b[0m\u001b[0;34m)\u001b[0m\u001b[0;34m\u001b[0m\u001b[0;34m\u001b[0m\u001b[0m\n",
            "\u001b[0;31mKeyError\u001b[0m: 'Fecha'"
          ]
        }
      ],
      "source": [
        "# Prob en IPC por formato date \n",
        "# get_data_ine_serie(PATH ,'MACRO_03','IPC206448',100)"
      ]
    },
    {
      "cell_type": "code",
      "execution_count": null,
      "metadata": {
        "id": "h16Ny_GkUilp"
      },
      "outputs": [],
      "source": [
        "s3 = boto3.client('s3', region_name=REGION)\n",
        "\n",
        "#filename = f'./app/{filename}'\n",
        "bucket_name = 'mad.bs31'\n",
        "filename_source=f'./app/df_MACRO_03.csv'\n",
        "filename_target=f'df_MACRO_03.csv'\n",
        "\n",
        "\n",
        "s3.upload_file(filename_source, bucket_name, filename_target)"
      ]
    },
    {
      "cell_type": "code",
      "source": [
        "data1 = pd.read_csv(f'{PATH}/df_MACRO_02.csv', sep=\"|\")"
      ],
      "metadata": {
        "id": "DDmQP1rumFPJ"
      },
      "execution_count": 28,
      "outputs": []
    },
    {
      "cell_type": "code",
      "source": [
        "data1"
      ],
      "metadata": {
        "colab": {
          "base_uri": "https://localhost:8080/",
          "height": 640
        },
        "id": "6aP8fjqxnB6M",
        "outputId": "63608acd-eabe-4dc5-eb86-9ed184d7aaa0"
      },
      "execution_count": 29,
      "outputs": [
        {
          "output_type": "execute_result",
          "data": {
            "text/html": [
              "\n",
              "  <div id=\"df-2280b5b3-94d5-400a-8003-e9c4ae948340\">\n",
              "    <div class=\"colab-df-container\">\n",
              "      <div>\n",
              "<style scoped>\n",
              "    .dataframe tbody tr th:only-of-type {\n",
              "        vertical-align: middle;\n",
              "    }\n",
              "\n",
              "    .dataframe tbody tr th {\n",
              "        vertical-align: top;\n",
              "    }\n",
              "\n",
              "    .dataframe thead th {\n",
              "        text-align: right;\n",
              "    }\n",
              "</style>\n",
              "<table border=\"1\" class=\"dataframe\">\n",
              "  <thead>\n",
              "    <tr style=\"text-align: right;\">\n",
              "      <th></th>\n",
              "      <th>FECHA</th>\n",
              "      <th>MACRO_02</th>\n",
              "      <th>COD_M</th>\n",
              "    </tr>\n",
              "  </thead>\n",
              "  <tbody>\n",
              "    <tr>\n",
              "      <th>0</th>\n",
              "      <td>1997-01-01</td>\n",
              "      <td>3.1804</td>\n",
              "      <td>MACRO_02</td>\n",
              "    </tr>\n",
              "    <tr>\n",
              "      <th>1</th>\n",
              "      <td>1997-04-01</td>\n",
              "      <td>3.3534</td>\n",
              "      <td>MACRO_02</td>\n",
              "    </tr>\n",
              "    <tr>\n",
              "      <th>2</th>\n",
              "      <td>1997-07-01</td>\n",
              "      <td>3.6944</td>\n",
              "      <td>MACRO_02</td>\n",
              "    </tr>\n",
              "    <tr>\n",
              "      <th>3</th>\n",
              "      <td>1997-10-01</td>\n",
              "      <td>4.5662</td>\n",
              "      <td>MACRO_02</td>\n",
              "    </tr>\n",
              "    <tr>\n",
              "      <th>4</th>\n",
              "      <td>1998-01-01</td>\n",
              "      <td>4.4223</td>\n",
              "      <td>MACRO_02</td>\n",
              "    </tr>\n",
              "    <tr>\n",
              "      <th>...</th>\n",
              "      <td>...</td>\n",
              "      <td>...</td>\n",
              "      <td>...</td>\n",
              "    </tr>\n",
              "    <tr>\n",
              "      <th>95</th>\n",
              "      <td>2020-10-01</td>\n",
              "      <td>-8.8016</td>\n",
              "      <td>MACRO_02</td>\n",
              "    </tr>\n",
              "    <tr>\n",
              "      <th>96</th>\n",
              "      <td>2021-01-01</td>\n",
              "      <td>-4.2504</td>\n",
              "      <td>MACRO_02</td>\n",
              "    </tr>\n",
              "    <tr>\n",
              "      <th>97</th>\n",
              "      <td>2021-04-01</td>\n",
              "      <td>17.6613</td>\n",
              "      <td>MACRO_02</td>\n",
              "    </tr>\n",
              "    <tr>\n",
              "      <th>98</th>\n",
              "      <td>2021-07-01</td>\n",
              "      <td>3.3884</td>\n",
              "      <td>MACRO_02</td>\n",
              "    </tr>\n",
              "    <tr>\n",
              "      <th>99</th>\n",
              "      <td>2021-10-01</td>\n",
              "      <td>5.2338</td>\n",
              "      <td>MACRO_02</td>\n",
              "    </tr>\n",
              "  </tbody>\n",
              "</table>\n",
              "<p>100 rows × 3 columns</p>\n",
              "</div>\n",
              "      <button class=\"colab-df-convert\" onclick=\"convertToInteractive('df-2280b5b3-94d5-400a-8003-e9c4ae948340')\"\n",
              "              title=\"Convert this dataframe to an interactive table.\"\n",
              "              style=\"display:none;\">\n",
              "        \n",
              "  <svg xmlns=\"http://www.w3.org/2000/svg\" height=\"24px\"viewBox=\"0 0 24 24\"\n",
              "       width=\"24px\">\n",
              "    <path d=\"M0 0h24v24H0V0z\" fill=\"none\"/>\n",
              "    <path d=\"M18.56 5.44l.94 2.06.94-2.06 2.06-.94-2.06-.94-.94-2.06-.94 2.06-2.06.94zm-11 1L8.5 8.5l.94-2.06 2.06-.94-2.06-.94L8.5 2.5l-.94 2.06-2.06.94zm10 10l.94 2.06.94-2.06 2.06-.94-2.06-.94-.94-2.06-.94 2.06-2.06.94z\"/><path d=\"M17.41 7.96l-1.37-1.37c-.4-.4-.92-.59-1.43-.59-.52 0-1.04.2-1.43.59L10.3 9.45l-7.72 7.72c-.78.78-.78 2.05 0 2.83L4 21.41c.39.39.9.59 1.41.59.51 0 1.02-.2 1.41-.59l7.78-7.78 2.81-2.81c.8-.78.8-2.07 0-2.86zM5.41 20L4 18.59l7.72-7.72 1.47 1.35L5.41 20z\"/>\n",
              "  </svg>\n",
              "      </button>\n",
              "      \n",
              "  <style>\n",
              "    .colab-df-container {\n",
              "      display:flex;\n",
              "      flex-wrap:wrap;\n",
              "      gap: 12px;\n",
              "    }\n",
              "\n",
              "    .colab-df-convert {\n",
              "      background-color: #E8F0FE;\n",
              "      border: none;\n",
              "      border-radius: 50%;\n",
              "      cursor: pointer;\n",
              "      display: none;\n",
              "      fill: #1967D2;\n",
              "      height: 32px;\n",
              "      padding: 0 0 0 0;\n",
              "      width: 32px;\n",
              "    }\n",
              "\n",
              "    .colab-df-convert:hover {\n",
              "      background-color: #E2EBFA;\n",
              "      box-shadow: 0px 1px 2px rgba(60, 64, 67, 0.3), 0px 1px 3px 1px rgba(60, 64, 67, 0.15);\n",
              "      fill: #174EA6;\n",
              "    }\n",
              "\n",
              "    [theme=dark] .colab-df-convert {\n",
              "      background-color: #3B4455;\n",
              "      fill: #D2E3FC;\n",
              "    }\n",
              "\n",
              "    [theme=dark] .colab-df-convert:hover {\n",
              "      background-color: #434B5C;\n",
              "      box-shadow: 0px 1px 3px 1px rgba(0, 0, 0, 0.15);\n",
              "      filter: drop-shadow(0px 1px 2px rgba(0, 0, 0, 0.3));\n",
              "      fill: #FFFFFF;\n",
              "    }\n",
              "  </style>\n",
              "\n",
              "      <script>\n",
              "        const buttonEl =\n",
              "          document.querySelector('#df-2280b5b3-94d5-400a-8003-e9c4ae948340 button.colab-df-convert');\n",
              "        buttonEl.style.display =\n",
              "          google.colab.kernel.accessAllowed ? 'block' : 'none';\n",
              "\n",
              "        async function convertToInteractive(key) {\n",
              "          const element = document.querySelector('#df-2280b5b3-94d5-400a-8003-e9c4ae948340');\n",
              "          const dataTable =\n",
              "            await google.colab.kernel.invokeFunction('convertToInteractive',\n",
              "                                                     [key], {});\n",
              "          if (!dataTable) return;\n",
              "\n",
              "          const docLinkHtml = 'Like what you see? Visit the ' +\n",
              "            '<a target=\"_blank\" href=https://colab.research.google.com/notebooks/data_table.ipynb>data table notebook</a>'\n",
              "            + ' to learn more about interactive tables.';\n",
              "          element.innerHTML = '';\n",
              "          dataTable['output_type'] = 'display_data';\n",
              "          await google.colab.output.renderOutput(dataTable, element);\n",
              "          const docLink = document.createElement('div');\n",
              "          docLink.innerHTML = docLinkHtml;\n",
              "          element.appendChild(docLink);\n",
              "        }\n",
              "      </script>\n",
              "    </div>\n",
              "  </div>\n",
              "  "
            ],
            "text/plain": [
              "         FECHA  MACRO_02     COD_M\n",
              "0   1997-01-01    3.1804  MACRO_02\n",
              "1   1997-04-01    3.3534  MACRO_02\n",
              "2   1997-07-01    3.6944  MACRO_02\n",
              "3   1997-10-01    4.5662  MACRO_02\n",
              "4   1998-01-01    4.4223  MACRO_02\n",
              "..         ...       ...       ...\n",
              "95  2020-10-01   -8.8016  MACRO_02\n",
              "96  2021-01-01   -4.2504  MACRO_02\n",
              "97  2021-04-01   17.6613  MACRO_02\n",
              "98  2021-07-01    3.3884  MACRO_02\n",
              "99  2021-10-01    5.2338  MACRO_02\n",
              "\n",
              "[100 rows x 3 columns]"
            ]
          },
          "metadata": {},
          "execution_count": 29
        }
      ]
    },
    {
      "cell_type": "code",
      "execution_count": null,
      "metadata": {
        "id": "bg08NI1GUilq"
      },
      "outputs": [],
      "source": [
        "params_codes_list = [(k, MACRO_DICT[k]) for k in MACRO_DICT]"
      ]
    },
    {
      "cell_type": "code",
      "execution_count": null,
      "metadata": {
        "id": "pYXK8sNTUilq"
      },
      "outputs": [],
      "source": [
        "params_codes_list[1][1][0]"
      ]
    },
    {
      "cell_type": "code",
      "execution_count": null,
      "metadata": {
        "id": "YxF_LJk_Uilr"
      },
      "outputs": [],
      "source": [
        "tabla.head()"
      ]
    },
    {
      "cell_type": "code",
      "execution_count": null,
      "metadata": {
        "id": "yoGxID7LUilr"
      },
      "outputs": [],
      "source": [
        "# get_data_ine_serie(PATH,params_codes_list[1][0],params_codes_list[1][1],100)"
      ]
    },
    {
      "cell_type": "code",
      "execution_count": null,
      "metadata": {
        "id": "Fv_9BwLhUils"
      },
      "outputs": [],
      "source": [
        "import requests\n",
        "import pandas as pd\n",
        "\n",
        "url_plantilla = 'http://servicios.ine.es/wstempus/js/ES/DATOS_SERIE/{codigo}?nult={num_datos}'\n",
        "# IPC206448\n",
        "codigo = \"EPA87\"\n",
        "num_datos = 100\n",
        "\n",
        "url = url_plantilla.format(codigo=codigo,\n",
        "                           num_datos=num_datos)\n",
        "\n",
        "respuesta = requests.get(url)\n",
        "datos = respuesta.json()\n",
        "\n",
        "nombre = datos['Nombre']\n",
        "\n",
        "fecha_serie_utc = pd.to_datetime([x['Fecha'] for x in datos['Data']], unit='ms', utc=True)\n",
        "\n",
        "fecha_serie_madrid = fecha_serie_utc.tz_convert('Europe/Madrid')\n",
        "\n",
        "fecha_serie = [x.tz_localize(None).date()\n",
        "               for x in fecha_serie_madrid]\n",
        "\n",
        "ocupados_serie = [x['Valor']\n",
        "                  for x in datos['Data']] \n",
        "\n",
        "tabla = pd.DataFrame(ocupados_serie,\n",
        "                     index=fecha_serie,\n",
        "                     columns=[nombre])\n",
        "\n"
      ]
    },
    {
      "cell_type": "code",
      "execution_count": null,
      "metadata": {
        "id": "Dx6dOXLNUils"
      },
      "outputs": [],
      "source": [
        "tabla.info()"
      ]
    },
    {
      "cell_type": "code",
      "execution_count": null,
      "metadata": {
        "id": "C5quhxhWUilt"
      },
      "outputs": [],
      "source": [
        "tabla.index=pd.to_datetime(tabla.index)"
      ]
    },
    {
      "cell_type": "code",
      "execution_count": null,
      "metadata": {
        "id": "LxQZlDZEUilt"
      },
      "outputs": [],
      "source": [
        "tabla.loc['2019']"
      ]
    },
    {
      "cell_type": "code",
      "execution_count": null,
      "metadata": {
        "id": "lL0JKC29Uilt"
      },
      "outputs": [],
      "source": [
        "ax=tabla.plot(marker='o', linestyle='-')"
      ]
    },
    {
      "cell_type": "code",
      "execution_count": null,
      "metadata": {
        "id": "p8nAED-fUilu"
      },
      "outputs": [],
      "source": [
        "ax=tabla.loc['2019':'2020'].plot(marker='o', linestyle='-')"
      ]
    },
    {
      "cell_type": "code",
      "execution_count": null,
      "metadata": {
        "id": "0S2_3ADbUilu"
      },
      "outputs": [],
      "source": [
        "tabla.rolling(window=3).mean()"
      ]
    },
    {
      "cell_type": "code",
      "execution_count": null,
      "metadata": {
        "id": "9oCNY13tUilu"
      },
      "outputs": [],
      "source": [
        "tabla_year=tabla\n",
        "# cases\n",
        "        increase = reg_df['cases'] - reg_df['cases'].shift(1)\n",
        "        increase[increase < 0] = 0.0\n",
        "        rolling = increase.rolling(window=3).mean()\n",
        "        df['increase_cases'].mask(df.region == region, increase, inplace=True)\n",
        "        df['rolling_cases'].mask(df.region == region, rolling, inplace=True)\n",
        "        df['increase_cases_per_100k'] = df['increase_cases'] * 100_000 / df['population']\n",
        "        df['rolling_cases_per_100k'] = df['rolling_cases'] * 100_000 / df['population']\n",
        "        # cases acum\n",
        "        rolling = increase.rolling(window=14).sum()"
      ]
    },
    {
      "cell_type": "code",
      "execution_count": null,
      "metadata": {
        "id": "VfMAiQo4Uilv"
      },
      "outputs": [],
      "source": [
        "https://servicios.ine.es/wstempus/js/ES/DATOS_SERIE/HPT40012?nult=200"
      ]
    },
    {
      "cell_type": "code",
      "execution_count": null,
      "metadata": {
        "id": "NU6eB_v9Uilv"
      },
      "outputs": [],
      "source": [
        "import requests\n",
        "import pandas as pd\n",
        "\n",
        "url_plantilla = 'http://servicios.ine.es/wstempus/js/ES/DATOS_SERIE/{codigo}?nult={num_datos}'\n",
        "\n",
        "codigo = \"HPT40012\" # Hipotec Andalucia\n",
        "codigo = \"HPT40013\" # Total Nacional\n",
        "num_datos = 400\n",
        "\n",
        "url = url_plantilla.format(codigo=codigo,\n",
        "                           num_datos=num_datos)\n",
        "\n",
        "respuesta = requests.get(url)\n",
        "datos = respuesta.json()\n",
        "\n",
        "nombre = datos['Nombre']\n",
        "\n",
        "fecha_serie_utc = pd.to_datetime([x['Fecha'] for x in datos['Data']], unit='ms', utc=True)\n",
        "\n",
        "fecha_serie_madrid = fecha_serie_utc.tz_convert('Europe/Madrid')\n",
        "\n",
        "fecha_serie = [x.tz_localize(None).date()\n",
        "               for x in fecha_serie_madrid]\n",
        "\n",
        "ocupados_serie = [x['Valor']\n",
        "                  for x in datos['Data']] \n",
        "\n",
        "tabla = pd.DataFrame(ocupados_serie,\n",
        "                     index=fecha_serie,\n",
        "                     columns=[nombre])\n"
      ]
    },
    {
      "cell_type": "code",
      "execution_count": null,
      "metadata": {
        "id": "YLizpqBkUilw"
      },
      "outputs": [],
      "source": [
        "tabla.tail() # 2013-2019"
      ]
    },
    {
      "cell_type": "code",
      "execution_count": null,
      "metadata": {
        "id": "MmXh1q_GUilw"
      },
      "outputs": [],
      "source": [
        "tabla.rename(columns={'Total. Número de hipotecas. Andalucía. Base nueva. Anual. Total fincas.':'Tot_Hipo'},inplace=True)"
      ]
    },
    {
      "cell_type": "code",
      "execution_count": null,
      "metadata": {
        "id": "NmSZGmbmUilx"
      },
      "outputs": [],
      "source": [
        "tabla.info()"
      ]
    },
    {
      "cell_type": "code",
      "execution_count": null,
      "metadata": {
        "id": "oOxDsw0mUilx"
      },
      "outputs": [],
      "source": [
        "tabla.index = pd.to_datetime(tabla.index)"
      ]
    },
    {
      "cell_type": "code",
      "execution_count": null,
      "metadata": {
        "id": "4cO_mCvQUilx"
      },
      "outputs": [],
      "source": [
        "list(tabla.columns)"
      ]
    },
    {
      "cell_type": "code",
      "execution_count": null,
      "metadata": {
        "id": "SJu7HzP6Uilx"
      },
      "outputs": [],
      "source": [
        "tabla.rename(columns={'Total. Número de hipotecas. Total Nacional. Base nueva. Anual. Total fincas. ':'TotNacHipo'},inplace=True)"
      ]
    },
    {
      "cell_type": "code",
      "execution_count": null,
      "metadata": {
        "id": "udVdL9ypUily"
      },
      "outputs": [],
      "source": [
        "tabla.loc['2003':'2005']"
      ]
    },
    {
      "cell_type": "code",
      "execution_count": null,
      "metadata": {
        "id": "uJElT8wcUily"
      },
      "outputs": [],
      "source": [
        "tabla.idxmax()"
      ]
    },
    {
      "cell_type": "code",
      "execution_count": null,
      "metadata": {
        "id": "hea9jjJWUily"
      },
      "outputs": [],
      "source": [
        "tabla.loc['2006-01-01']"
      ]
    },
    {
      "cell_type": "code",
      "execution_count": null,
      "metadata": {
        "id": "GOFZgX5CUilz"
      },
      "outputs": [],
      "source": [
        "#tabla_annual = pd.DataFrame()\n",
        "#tabla_annual['Tot_Hipo_Year'] = \n",
        "tabla_year = tabla.resample('AS').sum()"
      ]
    },
    {
      "cell_type": "code",
      "execution_count": null,
      "metadata": {
        "id": "eh1Hy-XzUilz"
      },
      "outputs": [],
      "source": [
        "tabla_year.plot(marker='o', linestyle='-')"
      ]
    },
    {
      "cell_type": "code",
      "execution_count": null,
      "metadata": {
        "id": "3vXkzHvZUilz"
      },
      "outputs": [],
      "source": [
        "last_date = tabla.index.values"
      ]
    },
    {
      "cell_type": "code",
      "execution_count": null,
      "metadata": {
        "id": "jowB1qM9Uilz"
      },
      "outputs": [],
      "source": [
        "last_date"
      ]
    },
    {
      "cell_type": "code",
      "execution_count": null,
      "metadata": {
        "id": "Nuqb0fu4Uil0"
      },
      "outputs": [],
      "source": [
        "tabla.tail()"
      ]
    },
    {
      "cell_type": "code",
      "execution_count": null,
      "metadata": {
        "id": "lOUrFfRNUil0"
      },
      "outputs": [],
      "source": [
        "# Resampling"
      ]
    },
    {
      "cell_type": "code",
      "source": [
        "%head -3 \"/content/data/INE/df_MACRO_02.csv\""
      ],
      "metadata": {
        "colab": {
          "base_uri": "https://localhost:8080/"
        },
        "id": "_o5ijfgvidON",
        "outputId": "14210316-94ff-4062-bbcd-2b5cc674b3ae"
      },
      "execution_count": 24,
      "outputs": [
        {
          "output_type": "stream",
          "name": "stderr",
          "text": [
            "UsageError: Line magic function `%head` not found.\n"
          ]
        }
      ]
    }
  ],
  "metadata": {
    "kernelspec": {
      "display_name": "Python 3",
      "language": "python",
      "name": "python3"
    },
    "language_info": {
      "codemirror_mode": {
        "name": "ipython",
        "version": 3
      },
      "file_extension": ".py",
      "mimetype": "text/x-python",
      "name": "python",
      "nbconvert_exporter": "python",
      "pygments_lexer": "ipython3",
      "version": "3.7.3"
    },
    "colab": {
      "name": "INEAPI_EX.ipynb",
      "provenance": [],
      "collapsed_sections": []
    }
  },
  "nbformat": 4,
  "nbformat_minor": 0
}